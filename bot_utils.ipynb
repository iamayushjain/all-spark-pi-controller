{
 "cells": [
  {
   "cell_type": "code",
   "execution_count": 1,
   "metadata": {},
   "outputs": [],
   "source": [
    "# Python Script\n",
    "# https://www.electronicshub.org/raspberry-pi-l298n-interface-tutorial-control-dc-motor-l298n-raspberry-pi/\n"
   ]
  },
  {
   "cell_type": "code",
   "execution_count": 2,
   "metadata": {},
   "outputs": [],
   "source": [
    "import RPi.GPIO as GPIO    \n",
    "import json\n",
    "from time import sleep"
   ]
  },
  {
   "cell_type": "code",
   "execution_count": 3,
   "metadata": {},
   "outputs": [],
   "source": [
    "def get_bot_config(): \n",
    "    with open('autobots-pinout-config.json') as f:\n",
    "        return json.load(f)"
   ]
  },
  {
   "cell_type": "code",
   "execution_count": 4,
   "metadata": {},
   "outputs": [],
   "source": [
    "motor_frequency = {}\n",
    "previous_motor_frequency = {}\n",
    "in_pin = {}\n",
    "\n",
    "bot_config = get_bot_config()\n",
    "\n",
    "bot_config_frequency = bot_config['frequency'];\n",
    "bot_config_key_mapping = bot_config['key-mapping'];"
   ]
  },
  {
   "cell_type": "code",
   "execution_count": 5,
   "metadata": {},
   "outputs": [],
   "source": [
    "def init_gpio():\n",
    "    GPIO.setmode(GPIO.BCM)\n",
    "    \n",
    "    for(k,v) in bot_config[\"wheels\"].items():\n",
    "        pin = {}\n",
    "        for(k1,v1) in bot_config[\"sides-port\"][v].items():\n",
    "            pin[k1] = bot_config[\"pinout\"][v1]\n",
    "        init_gpio_sides(pin)\n",
    "        motor_frequency[k] = init_pwm_motor_frequency(pin[\"en\"])\n",
    "        previous_motor_frequency[k] = -1\n",
    "    init_motor_frequency()\n",
    "    \n",
    "def init_motor_frequency():\n",
    "    for k in motor_frequency:\n",
    "        motor_frequency[k].start(0)\n",
    "        \n",
    "def init_gpio_sides(pin_data):\n",
    "    init_gpio_sides_with_data(pin_data[\"en\"], pin_data[\"in-positive\"], pin_data[\"in-negative\"])\n",
    "    \n",
    "def init_gpio_sides_with_data(en, in_positive, in_negative):\n",
    "   \n",
    "    \n",
    "    GPIO.setup(in_positive,GPIO.OUT)\n",
    "    GPIO.setup(in_negative,GPIO.OUT)\n",
    "    GPIO.setup(en,GPIO.OUT)\n",
    "    \n",
    "    GPIO.output(in_positive,GPIO.LOW)\n",
    "    GPIO.output(in_negative,GPIO.LOW)\n",
    "    \n",
    "def init_pwm_motor_frequency(en):\n",
    "    return GPIO.PWM(en, 1000)"
   ]
  },
  {
   "cell_type": "code",
   "execution_count": 6,
   "metadata": {},
   "outputs": [],
   "source": [
    "\n",
    "def provide_input_for_bot(instructions):\n",
    "    \n",
    "    if instructions['f'] in bot_config_frequency:\n",
    "        update_speed(instructions['f'])\n",
    "    elif instructions['b'] in bot_config_frequency:\n",
    "        update_speed(instructions['b'])\n",
    "    else:\n",
    "        low(bot_config[\"pinout\"][bot_config[\"sides-port\"][bot_config[\"wheels\"][\"odd\"]][\"in-positive\"]])\n",
    "        low(bot_config[\"pinout\"][bot_config[\"sides-port\"][bot_config[\"wheels\"][\"even\"]][\"in-positive\"]])\n",
    "        low(bot_config[\"pinout\"][bot_config[\"sides-port\"][bot_config[\"wheels\"][\"odd\"]][\"in-negative\"]])\n",
    "        low(bot_config[\"pinout\"][bot_config[\"sides-port\"][bot_config[\"wheels\"][\"even\"]][\"in-negative\"]])\n",
    "        \n",
    "        \n",
    "    if instructions['f'] != '0':\n",
    "        high(bot_config[\"pinout\"][bot_config[\"sides-port\"][bot_config[\"wheels\"][\"odd\"]][\"in-positive\"]])\n",
    "        high(bot_config[\"pinout\"][bot_config[\"sides-port\"][bot_config[\"wheels\"][\"even\"]][\"in-positive\"]])\n",
    "        low(bot_config[\"pinout\"][bot_config[\"sides-port\"][bot_config[\"wheels\"][\"odd\"]][\"in-negative\"]])\n",
    "        low(bot_config[\"pinout\"][bot_config[\"sides-port\"][bot_config[\"wheels\"][\"even\"]][\"in-negative\"]])\n",
    "        \n",
    "    if instructions['b'] != '0':\n",
    "        low(bot_config[\"pinout\"][bot_config[\"sides-port\"][bot_config[\"wheels\"][\"odd\"]][\"in-positive\"]])\n",
    "        low(bot_config[\"pinout\"][bot_config[\"sides-port\"][bot_config[\"wheels\"][\"even\"]][\"in-positive\"]])\n",
    "        high(bot_config[\"pinout\"][bot_config[\"sides-port\"][bot_config[\"wheels\"][\"odd\"]][\"in-negative\"]])\n",
    "        high(bot_config[\"pinout\"][bot_config[\"sides-port\"][bot_config[\"wheels\"][\"even\"]][\"in-negative\"]])\n",
    "    \n",
    "    if instructions['l'] == 1:\n",
    "        low(bot_config[\"pinout\"][bot_config[\"sides-port\"][bot_config[\"wheels\"][\"odd\"]][\"in-negative\"]])\n",
    "        low(bot_config[\"pinout\"][bot_config[\"sides-port\"][bot_config[\"wheels\"][\"odd\"]][\"in-positive\"]])\n",
    "    \n",
    "    if instructions['r'] == 1:\n",
    "        low(bot_config[\"pinout\"][bot_config[\"sides-port\"][bot_config[\"wheels\"][\"even\"]][\"in-negative\"]])\n",
    "        low(bot_config[\"pinout\"][bot_config[\"sides-port\"][bot_config[\"wheels\"][\"even\"]][\"in-positive\"]])\n",
    "        \n",
    "    if 'e' in instructions and instructions['e'] == 1:\n",
    "        clean_up_gpio()"
   ]
  },
  {
   "cell_type": "code",
   "execution_count": 7,
   "metadata": {},
   "outputs": [],
   "source": [
    "def high(input_pin):\n",
    "    GPIO.output(input_pin,GPIO.HIGH)\n",
    "def low(input_pin):\n",
    "    GPIO.output(input_pin,GPIO.LOW)"
   ]
  },
  {
   "cell_type": "code",
   "execution_count": 8,
   "metadata": {},
   "outputs": [],
   "source": [
    "\n",
    "def update_speed(value):\n",
    "    for(k,v) in bot_config[\"wheels\"].items():    \n",
    "        if previous_motor_frequency[k] != bot_config_frequency[value]:\n",
    "            field = bot_config_frequency[value]\n",
    "            motor_frequency[k].ChangeDutyCycle(field)\n",
    "            previous_motor_frequency[k] = field\n"
   ]
  },
  {
   "cell_type": "code",
   "execution_count": 9,
   "metadata": {},
   "outputs": [],
   "source": [
    "def clean_up_gpio():\n",
    "    GPIO.cleanup()\n",
    "    print(\"GPIO Clean up\")"
   ]
  },
  {
   "cell_type": "code",
   "execution_count": 10,
   "metadata": {},
   "outputs": [],
   "source": [
    "def demo_bot():\n",
    "    init_gpio()\n",
    "    provide_input_for_bot({\"f\":\"0\",\"b\":\"l\",\"l\":1,\"r\":0})"
   ]
  },
  {
   "cell_type": "code",
   "execution_count": 11,
   "metadata": {},
   "outputs": [],
   "source": [
    "# demo_bot()"
   ]
  }
 ],
 "metadata": {
  "kernelspec": {
   "display_name": "venv",
   "language": "python",
   "name": "venv"
  },
  "language_info": {
   "codemirror_mode": {
    "name": "ipython",
    "version": 3
   },
   "file_extension": ".py",
   "mimetype": "text/x-python",
   "name": "python",
   "nbconvert_exporter": "python",
   "pygments_lexer": "ipython3",
   "version": "3.7.3"
  }
 },
 "nbformat": 4,
 "nbformat_minor": 4
}
