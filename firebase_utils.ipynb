{
 "cells": [
  {
   "cell_type": "code",
   "execution_count": 1,
   "metadata": {},
   "outputs": [],
   "source": [
    "import firebase_admin\n",
    "from firebase_admin import credentials, firestore\n"
   ]
  },
  {
   "cell_type": "code",
   "execution_count": 2,
   "metadata": {},
   "outputs": [],
   "source": [
    "global_db_client = None\n",
    "\n",
    "def init_firebase(): \n",
    "    if not firebase_admin._apps:\n",
    "        cred = credentials.Certificate(\"firebase-optimusprime-bay.json\")\n",
    "        firebase_admin.initialize_app(cred)\n",
    "\n",
    "def get_db_client():\n",
    "    global global_db_client\n",
    "    if global_db_client is None:\n",
    "        init_firebase()\n",
    "        global_db_client = firestore.client()\n",
    "    return global_db_client"
   ]
  },
  {
   "cell_type": "code",
   "execution_count": null,
   "metadata": {},
   "outputs": [],
   "source": []
  }
 ],
 "metadata": {
  "kernelspec": {
   "display_name": "venv",
   "language": "python",
   "name": "venv"
  },
  "language_info": {
   "codemirror_mode": {
    "name": "ipython",
    "version": 3
   },
   "file_extension": ".py",
   "mimetype": "text/x-python",
   "name": "python",
   "nbconvert_exporter": "python",
   "pygments_lexer": "ipython3",
   "version": "3.7.3"
  }
 },
 "nbformat": 4,
 "nbformat_minor": 4
}
