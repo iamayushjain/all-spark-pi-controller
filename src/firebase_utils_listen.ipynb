{
 "cells": [
  {
   "cell_type": "code",
   "execution_count": 1,
   "metadata": {},
   "outputs": [
    {
     "name": "stdout",
     "output_type": "stream",
     "text": [
      "importing Jupyter notebook from firebase_utils.ipynb\n"
     ]
    }
   ],
   "source": [
    "import os\n",
    "import import_ipynb\n",
    "import threading\n",
    "from firebase_utils import *"
   ]
  },
  {
   "cell_type": "code",
   "execution_count": 2,
   "metadata": {},
   "outputs": [],
   "source": [
    "def listen_document(collection, document, on_snapshot, callback):\n",
    "    \n",
    "    db = get_db_client()\n",
    "    \n",
    "    # Create an Event for notifying main thread.\n",
    "    callback_done = {True: threading.Event(), False: callback} [on_snapshot is None]\n",
    "    \n",
    "    # Create a callback print_snapshot function to capture changes\n",
    "    def print_snapshot(doc_snapshot, changes, read_time):\n",
    "        for doc in doc_snapshot:\n",
    "            print(f'Received document snapshot: {doc.id}')\n",
    "            print(doc.to_dict())\n",
    "        callback_done.set()\n",
    "\n",
    "    doc_ref = db.collection(collection).document(document)\n",
    "\n",
    "    # Watch the document\n",
    "    doc_watch = doc_ref.on_snapshot({True: print_snapshot, False: on_snapshot} [on_snapshot is None])\n",
    "    # https://firebase.google.com/docs/firestore/query-data/listen?authuser=0\n",
    "    # https://tinyurl.com/y2mp4px2\n",
    "    "
   ]
  },
  {
   "cell_type": "code",
   "execution_count": 3,
   "metadata": {},
   "outputs": [],
   "source": [
    "def demo_firebase_listen():\n",
    "    collection = 'test_data'\n",
    "    document = 'keybinds'\n",
    "    callback_done = threading.Event()\n",
    "\n",
    "    def on_snapshot(doc_snapshot, changes, read_time):\n",
    "        for doc in doc_snapshot:\n",
    "            print(f'document snapshot: {doc.id}')\n",
    "            print(doc.to_dict())\n",
    "        callback_done.set()\n",
    "\n",
    "    listen_document(collection, document, on_snapshot, callback_done)\n"
   ]
  }
 ],
 "metadata": {
  "kernelspec": {
   "display_name": "all-spark",
   "language": "python",
   "name": "all-spark"
  },
  "language_info": {
   "codemirror_mode": {
    "name": "ipython",
    "version": 3
   },
   "file_extension": ".py",
   "mimetype": "text/x-python",
   "name": "python",
   "nbconvert_exporter": "python",
   "pygments_lexer": "ipython3",
   "version": "3.7.3"
  }
 },
 "nbformat": 4,
 "nbformat_minor": 4
}
