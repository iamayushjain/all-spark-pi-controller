{
 "cells": [
  {
   "cell_type": "code",
   "execution_count": 1,
   "metadata": {},
   "outputs": [
    {
     "name": "stdout",
     "output_type": "stream",
     "text": [
      "importing Jupyter notebook from firebase_utils_listen.ipynb\n",
      "importing Jupyter notebook from firebase_utils.ipynb\n",
      "importing Jupyter notebook from firebase_utils_write.ipynb\n",
      "importing Jupyter notebook from bot_utils.ipynb\n"
     ]
    }
   ],
   "source": [
    "# server : code on pi\n",
    "\n",
    "import os\n",
    "import import_ipynb\n",
    "from firebase_utils_listen import *\n",
    "from firebase_utils_write import *\n",
    "from bot_utils import *"
   ]
  },
  {
   "cell_type": "code",
   "execution_count": 2,
   "metadata": {},
   "outputs": [],
   "source": [
    "collection = 'test_data'\n",
    "document = 'keybind' "
   ]
  },
  {
   "cell_type": "code",
   "execution_count": 3,
   "metadata": {},
   "outputs": [],
   "source": [
    "callback_done = threading.Event()\n",
    "\n",
    "def on_config_udpate(doc_snapshot, changes, read_time):\n",
    "    for doc in doc_snapshot:\n",
    "        print(f'Snapshot: {doc.id}')\n",
    "        print(doc.to_dict())\n",
    "        provide_input_for_bot(doc.to_dict())\n",
    "    callback_done.set()"
   ]
  },
  {
   "cell_type": "code",
   "execution_count": 4,
   "metadata": {},
   "outputs": [],
   "source": [
    "def set_default_value():\n",
    "    write_document(collection, document, {\"f\":0, \"b\":0, \"l\":0, \"r\":0})"
   ]
  },
  {
   "cell_type": "code",
   "execution_count": 5,
   "metadata": {},
   "outputs": [],
   "source": [
    "set_default_value()"
   ]
  },
  {
   "cell_type": "code",
   "execution_count": 6,
   "metadata": {},
   "outputs": [],
   "source": [
    "init_gpio()"
   ]
  },
  {
   "cell_type": "code",
   "execution_count": 7,
   "metadata": {},
   "outputs": [
    {
     "name": "stdout",
     "output_type": "stream",
     "text": [
      "Snapshot: keybind\n",
      "{'r': 0, 'f': 0, 'l': 0, 'b': 0}\n",
      "Snapshot: keybind\n",
      "{'l': 0, 'b': '0', 'f': 'm', 'r': 0}\n",
      "Snapshot: keybind\n",
      "{'l': 0, 'r': 0, 'b': '0', 'f': '0'}\n",
      "Snapshot: keybind\n",
      "{'f': 'm', 'r': 0, 'b': '0', 'l': 0}\n",
      "Snapshot: keybind\n",
      "{'f': '0', 'l': 0, 'r': 0, 'b': '0'}\n",
      "Snapshot: keybind\n",
      "{'r': 0, 'f': '0', 'b': 'l', 'l': 0}\n",
      "Snapshot: keybind\n",
      "{'b': '0', 'r': 0, 'l': 0, 'f': '0'}\n",
      "Snapshot: keybind\n",
      "{'r': 0, 'b': 'h', 'l': 0, 'f': '0'}\n",
      "Snapshot: keybind\n",
      "{'r': 0, 'b': '0', 'l': 0, 'f': '0'}\n",
      "Snapshot: keybind\n",
      "{'r': 0, 'f': '0', 'b': 'h', 'l': 0}\n",
      "Snapshot: keybind\n",
      "{'f': '0', 'r': 0, 'l': 0, 'b': '0'}\n",
      "Snapshot: keybind\n",
      "{'l': 0, 'b': 'h', 'r': 0, 'f': '0'}\n",
      "Snapshot: keybind\n",
      "{'f': '0', 'b': '0', 'l': 0, 'r': 0}\n",
      "Snapshot: keybind\n",
      "{'b': 'h', 'l': 0, 'f': '0', 'r': 0}\n",
      "Snapshot: keybind\n",
      "{'f': '0', 'l': 0, 'r': 0, 'b': '0'}\n",
      "Snapshot: keybind\n",
      "{'b': 'h', 'l': 0, 'r': 0, 'f': '0'}\n",
      "Snapshot: keybind\n",
      "{'f': '0', 'l': 0, 'r': 0, 'b': '0'}\n",
      "Snapshot: keybind\n",
      "{'b': '0', 'r': 0, 'f': '0', 'l': 1}\n",
      "Snapshot: keybind\n",
      "{'f': '0', 'l': 0, 'r': 0, 'b': '0'}\n",
      "Snapshot: keybind\n",
      "{'b': '0', 'l': 0, 'f': 'l', 'r': 0}\n",
      "Snapshot: keybind\n",
      "{'r': 0, 'f': '0', 'b': '0', 'l': 0}\n",
      "Snapshot: keybind\n",
      "{'f': 'l', 'l': 0, 'b': '0', 'r': 0}\n",
      "Snapshot: keybind\n",
      "{'f': '0', 'b': '0', 'l': 0, 'r': 0}\n",
      "Snapshot: keybind\n",
      "{'r': 0, 'l': 0, 'b': 'm', 'f': '0'}\n",
      "Snapshot: keybind\n",
      "{'l': 0, 'f': '0', 'r': 0, 'b': '0'}\n",
      "Snapshot: keybind\n",
      "{'f': '0', 'r': 0, 'l': 0, 'b': 'l'}\n",
      "Snapshot: keybind\n",
      "{'b': '0', 'l': 0, 'r': 0, 'f': '0'}\n",
      "Snapshot: keybind\n",
      "{'l': 0, 'f': 'l', 'b': '0', 'r': 0}\n",
      "Snapshot: keybind\n",
      "{'l': 0, 'r': 0, 'b': '0', 'f': '0'}\n",
      "Snapshot: keybind\n",
      "{'f': '0', 'b': 'l', 'l': 0, 'r': 0}\n",
      "Snapshot: keybind\n",
      "{'b': '0', 'f': '0', 'l': 0, 'r': 0}\n",
      "Snapshot: keybind\n",
      "{'l': 0, 'r': 0, 'f': '0', 'b': 'l'}\n",
      "Snapshot: keybind\n",
      "{'b': '0', 'r': 0, 'f': '0', 'l': 0}\n",
      "Snapshot: keybind\n",
      "{'f': '0', 'b': 'l', 'r': 0, 'l': 0}\n",
      "Snapshot: keybind\n",
      "{'b': '0', 'f': '0', 'l': 0, 'r': 0}\n",
      "Snapshot: keybind\n",
      "{'b': 'm', 'r': 0, 'l': 0, 'f': '0'}\n",
      "Snapshot: keybind\n",
      "{'l': 0, 'b': '0', 'r': 0, 'f': '0'}\n",
      "Snapshot: keybind\n",
      "{'b': 'l', 'r': 0, 'f': '0', 'l': 0}\n",
      "Snapshot: keybind\n",
      "{'b': '0', 'f': '0', 'r': 0, 'l': 0}\n",
      "Snapshot: keybind\n",
      "{'b': '0', 'f': 'l', 'r': 0, 'l': 0}\n",
      "Snapshot: keybind\n",
      "{'b': '0', 'f': '0', 'r': 0, 'l': 0}\n",
      "Snapshot: keybind\n",
      "{'r': 0, 'f': '0', 'l': 0, 'b': 'm'}\n",
      "Snapshot: keybind\n",
      "{'f': '0', 'l': 0, 'b': '0', 'r': 0}\n",
      "Snapshot: keybind\n",
      "{'f': '0', 'l': 0, 'b': '0', 'r': 1}\n",
      "Snapshot: keybind\n",
      "{'b': '0', 'f': '0', 'r': 0, 'l': 0}\n",
      "Snapshot: keybind\n",
      "{'b': '0', 'r': 1, 'f': '0', 'l': 0}\n",
      "Snapshot: keybind\n",
      "{'f': '0', 'r': 0, 'l': 0, 'b': '0'}\n",
      "Snapshot: keybind\n",
      "{'b': '0', 'f': '0', 'l': 1, 'r': 0}\n",
      "Snapshot: keybind\n",
      "{'b': '0', 'r': 0, 'l': 0, 'f': '0'}\n",
      "Snapshot: keybind\n",
      "{'r': 0, 'b': 'm', 'f': '0', 'l': 0}\n",
      "Snapshot: keybind\n",
      "{'r': 0, 'b': '0', 'l': 0, 'f': '0'}\n",
      "Snapshot: keybind\n",
      "{'r': 0, 'l': 0, 'b': 'l', 'f': '0'}\n",
      "Snapshot: keybind\n",
      "{'f': '0', 'b': '0', 'l': 0, 'r': 0}\n"
     ]
    }
   ],
   "source": [
    "listen_document(collection, document, on_config_udpate, callback_done)"
   ]
  },
  {
   "cell_type": "code",
   "execution_count": null,
   "metadata": {},
   "outputs": [],
   "source": []
  }
 ],
 "metadata": {
  "kernelspec": {
   "display_name": "all-spark",
   "language": "python",
   "name": "all-spark"
  },
  "language_info": {
   "codemirror_mode": {
    "name": "ipython",
    "version": 3
   },
   "file_extension": ".py",
   "mimetype": "text/x-python",
   "name": "python",
   "nbconvert_exporter": "python",
   "pygments_lexer": "ipython3",
   "version": "3.7.3"
  }
 },
 "nbformat": 4,
 "nbformat_minor": 4
}
