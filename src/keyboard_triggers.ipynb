{
 "cells": [
  {
   "cell_type": "code",
   "execution_count": 9,
   "metadata": {
    "scrolled": true
   },
   "outputs": [],
   "source": [
    "from pynput.keyboard import Key, Listener"
   ]
  },
  {
   "cell_type": "code",
   "execution_count": 8,
   "metadata": {},
   "outputs": [],
   "source": [
    "\n",
    "def on_press(key):\n",
    "    try:\n",
    "        if key.char == 'q':\n",
    "            is_forward[\"h\"] = 1\n",
    "            set_forward_wheel_config()\n",
    "        elif key.char == 'w':\n",
    "            is_forward[\"m\"] = 1\n",
    "            set_forward_wheel_config()\n",
    "        elif key.char == 'e':\n",
    "            is_forward[\"l\"] = 1\n",
    "            set_forward_wheel_config()\n",
    "        elif key.char == 'm': \n",
    "            is_backward[\"h\"] = 1\n",
    "            set_backward_wheel_config()\n",
    "        elif key.char == 'n':\n",
    "            is_backward[\"m\"] = 1\n",
    "            set_backward_wheel_config()\n",
    "        elif key.char == 'r':\n",
    "            is_backward[\"l\"] = 1\n",
    "            set_backward_wheel_config()\n",
    "    except :\n",
    "        if key == Key.right:\n",
    "            is_to_rotate[\"r\"] = 1\n",
    "            set_rotate_wheel_config()\n",
    "        elif key == Key.left:\n",
    "            is_to_rotate[\"l\"] = 1\n",
    "            set_rotate_wheel_config()\n",
    "            \n",
    "            "
   ]
  },
  {
   "cell_type": "code",
   "execution_count": null,
   "metadata": {},
   "outputs": [],
   "source": [
    "def on_release(key):\n",
    "    try:\n",
    "        if key.char == 'q':\n",
    "            is_forward[\"h\"] = 0\n",
    "            set_forward_wheel_config()\n",
    "        elif key.char == 'w':\n",
    "            is_forward[\"m\"] = 0\n",
    "            set_forward_wheel_config()\n",
    "        elif key.char == 'e':\n",
    "            is_forward[\"l\"] = 0\n",
    "            set_forward_wheel_config()\n",
    "        elif key.char == 'm': \n",
    "            is_backward[\"h\"] = 0\n",
    "            set_backward_wheel_config()\n",
    "        elif key.char == 'n':\n",
    "            is_backward[\"m\"] = 0\n",
    "            set_backward_wheel_config()\n",
    "        elif key.char == 'r':\n",
    "            is_backward[\"l\"] = 0\n",
    "            set_backward_wheel_config()\n",
    "            \n",
    "    except :\n",
    "        if key == Key.right:\n",
    "            is_to_rotate[\"r\"] = 0\n",
    "            set_rotate_wheel_config()\n",
    "        elif key == Key.left:\n",
    "            is_to_rotate[\"l\"] = 0\n",
    "            set_rotate_wheel_config()\n",
    "        elif key == Key.esc:\n",
    "            # Stop listener\n",
    "            release_trigger()\n",
    "            return False\n"
   ]
  },
  {
   "cell_type": "code",
   "execution_count": null,
   "metadata": {},
   "outputs": [],
   "source": [
    "def set_forward_wheel_config():\n",
    "    if is_forward[\"h\"] == 1:\n",
    "        if wheel_config[\"f\"] != 'h':\n",
    "            wheel_config[\"f\"] = 'h'\n",
    "            update_trigger()\n",
    "    elif is_forward[\"m\"] == 1:\n",
    "        if wheel_config[\"f\"] != 'm':\n",
    "            wheel_config[\"f\"] = 'm'\n",
    "            update_trigger()\n",
    "    elif is_forward[\"l\"] == 1:\n",
    "        if wheel_config[\"f\"] != 'l':\n",
    "            wheel_config[\"f\"] = 'l'\n",
    "            update_trigger()\n",
    "    else:\n",
    "        if wheel_config[\"f\"] != '0':\n",
    "            wheel_config[\"f\"] = '0'\n",
    "            update_trigger()\n"
   ]
  },
  {
   "cell_type": "code",
   "execution_count": null,
   "metadata": {},
   "outputs": [],
   "source": [
    "def set_backward_wheel_config():\n",
    "    \n",
    "    if is_backward[\"h\"] == 1:\n",
    "        if wheel_config[\"b\"] != 'h':\n",
    "            wheel_config[\"b\"] = 'h'\n",
    "            update_trigger()\n",
    "    elif is_backward[\"m\"] == 1:\n",
    "        if wheel_config[\"b\"] != 'm':\n",
    "            wheel_config[\"b\"] = 'm'\n",
    "            update_trigger()\n",
    "    elif is_backward[\"l\"] == 1:\n",
    "        if wheel_config[\"b\"] != 'l':\n",
    "            wheel_config[\"b\"] = 'l'\n",
    "            update_trigger()\n",
    "    else:\n",
    "        if wheel_config[\"b\"] != '0':\n",
    "            wheel_config[\"b\"] = '0'\n",
    "            update_trigger()"
   ]
  },
  {
   "cell_type": "code",
   "execution_count": null,
   "metadata": {},
   "outputs": [],
   "source": [
    "def set_rotate_wheel_config():\n",
    "    if is_to_rotate[\"r\"] == 1: \n",
    "        if wheel_config[\"r\"] != 1:\n",
    "            wheel_config[\"r\"] = 1\n",
    "            update_trigger()\n",
    "    elif is_to_rotate[\"r\"] == 0: \n",
    "        if wheel_config[\"r\"] != 0:\n",
    "            wheel_config[\"r\"] = 0\n",
    "            update_trigger()\n",
    "    \n",
    "    if is_to_rotate[\"l\"] == 1: \n",
    "        if wheel_config[\"l\"] != 1:\n",
    "            wheel_config[\"l\"] = 1\n",
    "            update_trigger()\n",
    "    elif is_to_rotate[\"l\"] == 0: \n",
    "        if wheel_config[\"l\"] != 0:\n",
    "            wheel_config[\"l\"] = 0\n",
    "            update_trigger()\n",
    "            "
   ]
  },
  {
   "cell_type": "code",
   "execution_count": null,
   "metadata": {},
   "outputs": [],
   "source": [
    "def is_forward_active():\n",
    "    return is_forward[\"f\"] or is_forward[\"m\"] or is_forward[\"l\"]\n",
    "\n",
    "def is_backward_active():\n",
    "    return is_backward[\"f\"] or is_backward[\"m\"] or is_backward[\"l\"]"
   ]
  },
  {
   "cell_type": "code",
   "execution_count": null,
   "metadata": {},
   "outputs": [],
   "source": [
    "trigger_update_function = None\n",
    "release_keyboard_listener = None"
   ]
  },
  {
   "cell_type": "code",
   "execution_count": null,
   "metadata": {},
   "outputs": [],
   "source": [
    "def update_trigger():\n",
    "    global trigger_update_function\n",
    "    if trigger_update_function is None:\n",
    "        print_wheel_config()\n",
    "    else:\n",
    "        trigger_update_function(wheel_config)\n",
    "        \n",
    "def print_wheel_config():\n",
    "    print(wheel_config)    "
   ]
  },
  {
   "cell_type": "code",
   "execution_count": null,
   "metadata": {},
   "outputs": [],
   "source": [
    "def release_trigger():\n",
    "    wheel_config[\"e\"] = 1\n",
    "    update_trigger()\n",
    "\n",
    "    global release_keyboard_listener\n",
    "    if release_keyboard_listener is None:\n",
    "        release_trigger_action()\n",
    "    else:\n",
    "        release_keyboard_listener()\n",
    "        \n",
    "def release_trigger_action():\n",
    "    print(\"releasing trigger\")"
   ]
  },
  {
   "cell_type": "code",
   "execution_count": null,
   "metadata": {},
   "outputs": [],
   "source": [
    "wheel_config = {\"f\":\"0\",\"b\":\"0\",\"l\":0,\"r\":0}"
   ]
  },
  {
   "cell_type": "code",
   "execution_count": null,
   "metadata": {},
   "outputs": [],
   "source": [
    "is_forward  = {\"h\":0,\"m\": 0,\"l\":0}\n",
    "is_backward = {\"h\":0,\"m\": 0,\"l\":0}\n",
    "is_to_rotate = {\"l\":0, \"r\":0}\n"
   ]
  },
  {
   "cell_type": "code",
   "execution_count": null,
   "metadata": {},
   "outputs": [],
   "source": [
    "def start_listener(config_on_udpate_function, release_keyboard_function):\n",
    "    global trigger_update_function\n",
    "    global release_keyboard_listener\n",
    "    trigger_update_function = config_on_udpate_function\n",
    "    release_keyboard_listener = release_keyboard_function\n",
    "    \n",
    "    with Listener(\n",
    "        on_press=on_press,\n",
    "        on_release=on_release) as listener:\n",
    "        listener.join()"
   ]
  },
  {
   "cell_type": "code",
   "execution_count": null,
   "metadata": {},
   "outputs": [],
   "source": [
    "def demo_keyboard_listener():\n",
    "    def print_wheel_config_1(wheel_config1):\n",
    "        print(wheel_config1)\n",
    "    def release_keyboard_listener_1():\n",
    "        print(\"release all\")\n",
    "    \n",
    "    start_listener(print_wheel_config_1, release_keyboard_listener_1)"
   ]
  },
  {
   "cell_type": "code",
   "execution_count": null,
   "metadata": {},
   "outputs": [],
   "source": []
  }
 ],
 "metadata": {
  "kernelspec": {
   "display_name": "all-spark",
   "language": "python",
   "name": "all-spark"
  },
  "language_info": {
   "codemirror_mode": {
    "name": "ipython",
    "version": 3
   },
   "file_extension": ".py",
   "mimetype": "text/x-python",
   "name": "python",
   "nbconvert_exporter": "python",
   "pygments_lexer": "ipython3",
   "version": "3.7.3"
  }
 },
 "nbformat": 4,
 "nbformat_minor": 4
}
